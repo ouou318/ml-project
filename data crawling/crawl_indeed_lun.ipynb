{
 "cells": [
  {
   "cell_type": "markdown",
   "metadata": {},
   "source": [
    "# Analyze Job Descriptions on Indeed\n",
    "\n",
    "#### I scraped the job descriptions of jobs on indeed with \"data scientist\" title to analyze three questions:\n",
    "\n",
    "- What is the distribution of data scientists’ salary?\n",
    "- What is the geographic distribution of the jobs?\n",
    "- What are the top 10 skills required for data scientist jobs?"
   ]
  },
  {
   "cell_type": "markdown",
   "metadata": {},
   "source": [
    "### From a simple analyze:\n",
    "- Salaries are different, depending on the company.\n",
    "- Seattle seems like a hotspot.\n",
    "- Experience, Data sciences, Team work, \\\n",
    "  Business sense, Machine learning, Statistics, \\\n",
    "  Models, Computer sciences, Mathematics, Product sense"
   ]
  },
  {
   "cell_type": "markdown",
   "metadata": {},
   "source": [
    "### Import packages and locate information I want"
   ]
  },
  {
   "cell_type": "code",
   "execution_count": 223,
   "metadata": {},
   "outputs": [],
   "source": [
    "from bs4 import BeautifulSoup\n",
    "import requests\n",
    "import urllib\n",
    "import re\n",
    "import pandas as pd\n",
    "import time"
   ]
  },
  {
   "cell_type": "code",
   "execution_count": 224,
   "metadata": {},
   "outputs": [],
   "source": [
    "from urllib.request import urlopen\n",
    "url = \"https://www.indeed.com/jobs?q=data%20scientist&l&vjk=7ad6bbbb537d86b4\"\n",
    "headers = {'User-Agent': 'Mozilla/5.0 (iPhone; CPU iPhone OS 14_2 like Mac OS X) AppleWebKit/605.1.15 (KHTML, like Gecko) Version/14.0 Mobile/15E148 Safari/604.1'}\n",
    "page = requests.get(url=url, headers=headers)\n",
    "soup = BeautifulSoup(page.text, 'lxml')"
   ]
  },
  {
   "cell_type": "code",
   "execution_count": 226,
   "metadata": {},
   "outputs": [],
   "source": [
    "# Looking into the text\n",
    "# soup"
   ]
  },
  {
   "cell_type": "code",
   "execution_count": 227,
   "metadata": {},
   "outputs": [
    {
     "name": "stdout",
     "output_type": "stream",
     "text": [
      "/m/jobs?q=data+scientist&l=&forceLocation=0&remotejob=1\n",
      "<class 'str'>\n",
      "https://www.indeed.com/m/jobs?q=data+scientist&l=&forceLocation=0&remotejob=1\n",
      "/m/app/vjredirect?dest=https%3A%2F%2Fwww.indeed.com%2Fpagead%2Fclk%3Fmo%3Dr%26ad%3D-6NYlbfkN0AC5S5KfpcrE62cRuYLg6qW_HWiPjKHP06qk-AGfbwYtGlr3wcSMURH9oqKq1q2FCee1dkQkxJJ_jTPTeaAj6bQY7W8nqpUJM6WNhg1Fr7srQjxek9SAawv5QRJo22yh6jaI0jLCwWYB603POmp70HemzGBDkYYvwrCFvPu-nfYsX2UKqdDc0u7274l5baHmFtK1DpEG0ci71uR3xqQQTgmHxzhHtnxyD-uFR4_F9yoDRowm_53Glk50zxIORWCC2QjZi81fA29O33ivPm5Eijmu1Vy5LLNJrwGC28MhxxSguLYxnD-C8fj7nsm0UaNULfU6i5Dlk5vMyn63_x79A-b-SrjjhH2DMtfm3BJ6FXyFyTN8-d5ykaTev4TiSvZD7o9Y3E6yhr7Z83ibh83UbMUAotqPKgb2YX2mM1nh21Zp7viH9E7GbFKqBjI43y8wZtLj0eZNf2KLX3g7TuFAVQaKkIXyqtGH7s%3D%26p%3D0%26atk%3D1eo6i64koo2bg800%26prforceGroups%3D%26from%3Dserp&mclk=jk%3Dcc9099be094839a1%26rd%3DVwIPTVJ1cTn5AN7Q-tSqGU7tbCSPKtlu-SZlfxA6gUk%26what%3Ddata+scientist%26mobtk%3D1eo6i64kko2bg800%26atk%3D1eo6i64koo2bg800%26spon%3D1%26where%3D%26jt%3D%26dupclk%3D0%26explvl%3D\n",
      "<class 'str'>\n",
      "https://www.indeed.com/m/app/vjredirect?dest=https%3A%2F%2Fwww.indeed.com%2Fpagead%2Fclk%3Fmo%3Dr%26ad%3D-6NYlbfkN0AC5S5KfpcrE62cRuYLg6qW_HWiPjKHP06qk-AGfbwYtGlr3wcSMURH9oqKq1q2FCee1dkQkxJJ_jTPTeaAj6bQY7W8nqpUJM6WNhg1Fr7srQjxek9SAawv5QRJo22yh6jaI0jLCwWYB603POmp70HemzGBDkYYvwrCFvPu-nfYsX2UKqdDc0u7274l5baHmFtK1DpEG0ci71uR3xqQQTgmHxzhHtnxyD-uFR4_F9yoDRowm_53Glk50zxIORWCC2QjZi81fA29O33ivPm5Eijmu1Vy5LLNJrwGC28MhxxSguLYxnD-C8fj7nsm0UaNULfU6i5Dlk5vMyn63_x79A-b-SrjjhH2DMtfm3BJ6FXyFyTN8-d5ykaTev4TiSvZD7o9Y3E6yhr7Z83ibh83UbMUAotqPKgb2YX2mM1nh21Zp7viH9E7GbFKqBjI43y8wZtLj0eZNf2KLX3g7TuFAVQaKkIXyqtGH7s%3D%26p%3D0%26atk%3D1eo6i64koo2bg800%26prforceGroups%3D%26from%3Dserp&mclk=jk%3Dcc9099be094839a1%26rd%3DVwIPTVJ1cTn5AN7Q-tSqGU7tbCSPKtlu-SZlfxA6gUk%26what%3Ddata+scientist%26mobtk%3D1eo6i64kko2bg800%26atk%3D1eo6i64koo2bg800%26spon%3D1%26where%3D%26jt%3D%26dupclk%3D0%26explvl%3D\n",
      "/m/app/vjredirect?dest=%2Fm%2Fviewjob%3Fjk%3D7ad6bbbb537d86b4%26from%3Dserp&mclk=jk%3D7ad6bbbb537d86b4%26rd%3DVwIPTVJ1cTn5AN7Q-tSqGdWR5n1q_8iP5HExj8x55b4%26what%3Ddata+scientist%26mobtk%3D1eo6i64kko2bg800%26atk%3D1eo6i64koo2bg800%26where%3D%26jt%3D%26dupclk%3D0%26explvl%3D\n",
      "<class 'str'>\n",
      "https://www.indeed.com/m/app/vjredirect?dest=%2Fm%2Fviewjob%3Fjk%3D7ad6bbbb537d86b4%26from%3Dserp&mclk=jk%3D7ad6bbbb537d86b4%26rd%3DVwIPTVJ1cTn5AN7Q-tSqGdWR5n1q_8iP5HExj8x55b4%26what%3Ddata+scientist%26mobtk%3D1eo6i64kko2bg800%26atk%3D1eo6i64koo2bg800%26where%3D%26jt%3D%26dupclk%3D0%26explvl%3D\n",
      "/m/app/vjredirect?dest=%2Fm%2Fviewjob%3Fjk%3D8f202a5fe0793891%26from%3Dserp&mclk=jk%3D8f202a5fe0793891%26rd%3DVwIPTVJ1cTn5AN7Q-tSqGZgSxsGX2Myd3D-gz1VuLlo%26what%3Ddata+scientist%26mobtk%3D1eo6i64kko2bg800%26atk%3D1eo6i64koo2bg800%26where%3D%26jt%3D%26dupclk%3D0%26explvl%3D\n",
      "<class 'str'>\n",
      "https://www.indeed.com/m/app/vjredirect?dest=%2Fm%2Fviewjob%3Fjk%3D8f202a5fe0793891%26from%3Dserp&mclk=jk%3D8f202a5fe0793891%26rd%3DVwIPTVJ1cTn5AN7Q-tSqGZgSxsGX2Myd3D-gz1VuLlo%26what%3Ddata+scientist%26mobtk%3D1eo6i64kko2bg800%26atk%3D1eo6i64koo2bg800%26where%3D%26jt%3D%26dupclk%3D0%26explvl%3D\n",
      "/m/app/vjredirect?dest=%2Fm%2Fviewjob%3Fjk%3Dbb1ed3058e870b5c%26prevUrl%3Dhttps%253A%252F%252Fwww.indeed.com%252Fm%252Fjobs%253Fq%253Ddata%252Bscientist%2526vjk%253D7ad6bbbb537d86b4%26from%3Dserp&mclk=jk%3Dbb1ed3058e870b5c%26rd%3DVwIPTVJ1cTn5AN7Q-tSqGTpg9ercKYJfM2Z6Bqz3nI4%26what%3Ddata+scientist%26mobtk%3D1eo6i64kko2bg800%26atk%3D1eo6i64koo2bg800%26where%3D%26jt%3D%26dupclk%3D0%26explvl%3D\n",
      "<class 'str'>\n",
      "https://www.indeed.com/m/app/vjredirect?dest=%2Fm%2Fviewjob%3Fjk%3Dbb1ed3058e870b5c%26prevUrl%3Dhttps%253A%252F%252Fwww.indeed.com%252Fm%252Fjobs%253Fq%253Ddata%252Bscientist%2526vjk%253D7ad6bbbb537d86b4%26from%3Dserp&mclk=jk%3Dbb1ed3058e870b5c%26rd%3DVwIPTVJ1cTn5AN7Q-tSqGTpg9ercKYJfM2Z6Bqz3nI4%26what%3Ddata+scientist%26mobtk%3D1eo6i64kko2bg800%26atk%3D1eo6i64koo2bg800%26where%3D%26jt%3D%26dupclk%3D0%26explvl%3D\n",
      "/m/app/vjredirect?dest=%2Fm%2Fviewjob%3Fjk%3Dfe2305d701edbbe7%26from%3Dserp&mclk=jk%3Dfe2305d701edbbe7%26rd%3DVwIPTVJ1cTn5AN7Q-tSqGVTUS4L7EyZ3-fV_UkOKIFY%26what%3Ddata+scientist%26mobtk%3D1eo6i64kko2bg800%26atk%3D1eo6i64koo2bg800%26where%3D%26jt%3D%26dupclk%3D0%26explvl%3D\n",
      "<class 'str'>\n",
      "https://www.indeed.com/m/app/vjredirect?dest=%2Fm%2Fviewjob%3Fjk%3Dfe2305d701edbbe7%26from%3Dserp&mclk=jk%3Dfe2305d701edbbe7%26rd%3DVwIPTVJ1cTn5AN7Q-tSqGVTUS4L7EyZ3-fV_UkOKIFY%26what%3Ddata+scientist%26mobtk%3D1eo6i64kko2bg800%26atk%3D1eo6i64koo2bg800%26where%3D%26jt%3D%26dupclk%3D0%26explvl%3D\n",
      "/m/app/vjredirect?dest=%2Fm%2Fviewjob%3Fjk%3Dce48761f60595831%26from%3Dserp&mclk=jk%3Dce48761f60595831%26rd%3DVwIPTVJ1cTn5AN7Q-tSqGamcEHeUk445S1tBbSaR-s0%26what%3Ddata+scientist%26mobtk%3D1eo6i64kko2bg800%26atk%3D1eo6i64koo2bg800%26where%3D%26jt%3D%26dupclk%3D0%26explvl%3D\n",
      "<class 'str'>\n",
      "https://www.indeed.com/m/app/vjredirect?dest=%2Fm%2Fviewjob%3Fjk%3Dce48761f60595831%26from%3Dserp&mclk=jk%3Dce48761f60595831%26rd%3DVwIPTVJ1cTn5AN7Q-tSqGamcEHeUk445S1tBbSaR-s0%26what%3Ddata+scientist%26mobtk%3D1eo6i64kko2bg800%26atk%3D1eo6i64koo2bg800%26where%3D%26jt%3D%26dupclk%3D0%26explvl%3D\n",
      "/m/app/vjredirect?dest=%2Fm%2Fviewjob%3Fjk%3Def7fa851ce6fdbfb%26from%3Dserp&mclk=jk%3Def7fa851ce6fdbfb%26rd%3DVwIPTVJ1cTn5AN7Q-tSqGfktXrqBAKoFela5X_9SqdQ%26what%3Ddata+scientist%26mobtk%3D1eo6i64kko2bg800%26atk%3D1eo6i64koo2bg800%26where%3D%26jt%3D%26dupclk%3D0%26explvl%3D\n",
      "<class 'str'>\n",
      "https://www.indeed.com/m/app/vjredirect?dest=%2Fm%2Fviewjob%3Fjk%3Def7fa851ce6fdbfb%26from%3Dserp&mclk=jk%3Def7fa851ce6fdbfb%26rd%3DVwIPTVJ1cTn5AN7Q-tSqGfktXrqBAKoFela5X_9SqdQ%26what%3Ddata+scientist%26mobtk%3D1eo6i64kko2bg800%26atk%3D1eo6i64koo2bg800%26where%3D%26jt%3D%26dupclk%3D0%26explvl%3D\n",
      "/m/app/vjredirect?dest=https%3A%2F%2Fwww.indeed.com%2Fpagead%2Fclk%3Fmo%3Dr%26ad%3D-6NYlbfkN0D3UvD5kBSgX9r9tFJCI4OL-41vvae__bcle4uMSq30h36AcPbHjl9bcVWQE4zSRT4EOgpM6LkPra63lxoEtVae-7wD-oUwUbBd1OZLV0EDBfVsDapnyVIX5sAVVSZi1JFDgw1-QU0Z_6h_hb3hkF0kGSe2adBRcLcqgwNeO_zU5nnKOsyOlHwD2G43obaB3i0uWRRrsBAZHi9Dq6B5YO1ieMdkIrLx_aTlGcwcAZVA4iWuAWHNwW2xIhwNIo0mxbiRGncyz9otYYxv8xNEnHCEWGuqjyfyGBUoOmxdAVjcXheIXrZZTf2gDFeokQw6uxfPDRDxkWW0tK25oqIwkcjSuMYs0JtGP3FSP1WeASSC10EcfqBP0uYRr8eMGvS5iJPhQMPyuTv9D-elxGWxoQKq193UjlouCp1uvGi69ihPO9QpntfpWLA8lBAxveBsxhpGJ3PWrv6p9D2Hksovn117hJ3n73jrybwk9CKMmT8VeqzZMhl7OH0RP0q_5tlfopkHms6K6eoPe0UYMu0dhana7rw1zP53IHsbLsKyPp1nSs-mgSpyOAsl0UicO5sSpHuWwgH_jKICCebHVQeSrP6R72ek-Fs58yQ%3D%26p%3D7%26atk%3D1eo6i64koo2bg800%26prforceGroups%3D%26from%3Dserp&mclk=jk%3D00ba1a22ba67ffd2%26rd%3DVwIPTVJ1cTn5AN7Q-tSqGWBBWJIjeHggOYswuuOJKKs%26what%3Ddata+scientist%26mobtk%3D1eo6i64kko2bg800%26atk%3D1eo6i64koo2bg800%26spon%3D1%26where%3D%26jt%3D%26dupclk%3D0%26explvl%3D\n",
      "<class 'str'>\n",
      "https://www.indeed.com/m/app/vjredirect?dest=https%3A%2F%2Fwww.indeed.com%2Fpagead%2Fclk%3Fmo%3Dr%26ad%3D-6NYlbfkN0D3UvD5kBSgX9r9tFJCI4OL-41vvae__bcle4uMSq30h36AcPbHjl9bcVWQE4zSRT4EOgpM6LkPra63lxoEtVae-7wD-oUwUbBd1OZLV0EDBfVsDapnyVIX5sAVVSZi1JFDgw1-QU0Z_6h_hb3hkF0kGSe2adBRcLcqgwNeO_zU5nnKOsyOlHwD2G43obaB3i0uWRRrsBAZHi9Dq6B5YO1ieMdkIrLx_aTlGcwcAZVA4iWuAWHNwW2xIhwNIo0mxbiRGncyz9otYYxv8xNEnHCEWGuqjyfyGBUoOmxdAVjcXheIXrZZTf2gDFeokQw6uxfPDRDxkWW0tK25oqIwkcjSuMYs0JtGP3FSP1WeASSC10EcfqBP0uYRr8eMGvS5iJPhQMPyuTv9D-elxGWxoQKq193UjlouCp1uvGi69ihPO9QpntfpWLA8lBAxveBsxhpGJ3PWrv6p9D2Hksovn117hJ3n73jrybwk9CKMmT8VeqzZMhl7OH0RP0q_5tlfopkHms6K6eoPe0UYMu0dhana7rw1zP53IHsbLsKyPp1nSs-mgSpyOAsl0UicO5sSpHuWwgH_jKICCebHVQeSrP6R72ek-Fs58yQ%3D%26p%3D7%26atk%3D1eo6i64koo2bg800%26prforceGroups%3D%26from%3Dserp&mclk=jk%3D00ba1a22ba67ffd2%26rd%3DVwIPTVJ1cTn5AN7Q-tSqGWBBWJIjeHggOYswuuOJKKs%26what%3Ddata+scientist%26mobtk%3D1eo6i64kko2bg800%26atk%3D1eo6i64koo2bg800%26spon%3D1%26where%3D%26jt%3D%26dupclk%3D0%26explvl%3D\n",
      "/m/app/vjredirect?dest=%2Fm%2Fviewjob%3Fjk%3D21543bc9039d1c3f%26prevUrl%3Dhttps%253A%252F%252Fwww.indeed.com%252Fm%252Fjobs%253Fq%253Ddata%252Bscientist%2526vjk%253D7ad6bbbb537d86b4%26from%3Dserp&mclk=jk%3D21543bc9039d1c3f%26rd%3DVwIPTVJ1cTn5AN7Q-tSqGWOui6BpmBFILPKe0a3b0V8%26what%3Ddata+scientist%26mobtk%3D1eo6i64kko2bg800%26atk%3D1eo6i64koo2bg800%26where%3D%26jt%3D%26dupclk%3D0%26explvl%3D\n",
      "<class 'str'>\n",
      "https://www.indeed.com/m/app/vjredirect?dest=%2Fm%2Fviewjob%3Fjk%3D21543bc9039d1c3f%26prevUrl%3Dhttps%253A%252F%252Fwww.indeed.com%252Fm%252Fjobs%253Fq%253Ddata%252Bscientist%2526vjk%253D7ad6bbbb537d86b4%26from%3Dserp&mclk=jk%3D21543bc9039d1c3f%26rd%3DVwIPTVJ1cTn5AN7Q-tSqGWOui6BpmBFILPKe0a3b0V8%26what%3Ddata+scientist%26mobtk%3D1eo6i64kko2bg800%26atk%3D1eo6i64koo2bg800%26where%3D%26jt%3D%26dupclk%3D0%26explvl%3D\n",
      "/m/app/vjredirect?dest=%2Fm%2Fviewjob%3Fjk%3Ddd628fd803dd06db%26from%3Dserp&mclk=jk%3Ddd628fd803dd06db%26rd%3DVwIPTVJ1cTn5AN7Q-tSqGeb5jrkLxsEiQ0t-1mjYdaA%26what%3Ddata+scientist%26mobtk%3D1eo6i64kko2bg800%26atk%3D1eo6i64koo2bg800%26where%3D%26jt%3D%26dupclk%3D0%26explvl%3D\n",
      "<class 'str'>\n",
      "https://www.indeed.com/m/app/vjredirect?dest=%2Fm%2Fviewjob%3Fjk%3Ddd628fd803dd06db%26from%3Dserp&mclk=jk%3Ddd628fd803dd06db%26rd%3DVwIPTVJ1cTn5AN7Q-tSqGeb5jrkLxsEiQ0t-1mjYdaA%26what%3Ddata+scientist%26mobtk%3D1eo6i64kko2bg800%26atk%3D1eo6i64koo2bg800%26where%3D%26jt%3D%26dupclk%3D0%26explvl%3D\n",
      "/m/app/vjredirect?dest=%2Fm%2Fviewjob%3Fjk%3D3134e071ba228583%26from%3Dserp&mclk=jk%3D3134e071ba228583%26rd%3DVwIPTVJ1cTn5AN7Q-tSqGT-2K1gC1ua9yUDm3uAH264%26what%3Ddata+scientist%26mobtk%3D1eo6i64kko2bg800%26atk%3D1eo6i64koo2bg800%26where%3D%26jt%3D%26dupclk%3D0%26explvl%3D\n",
      "<class 'str'>\n",
      "https://www.indeed.com/m/app/vjredirect?dest=%2Fm%2Fviewjob%3Fjk%3D3134e071ba228583%26from%3Dserp&mclk=jk%3D3134e071ba228583%26rd%3DVwIPTVJ1cTn5AN7Q-tSqGT-2K1gC1ua9yUDm3uAH264%26what%3Ddata+scientist%26mobtk%3D1eo6i64kko2bg800%26atk%3D1eo6i64koo2bg800%26where%3D%26jt%3D%26dupclk%3D0%26explvl%3D\n",
      "/m/app/vjredirect?dest=https%3A%2F%2Fwww.indeed.com%2Fpagead%2Fclk%3Fmo%3Dr%26ad%3D-6NYlbfkN0BTOZiIoHZD3kQqAsWFmbRNEV7B3R4z1vODUbkjvly5byZVy9ZKKCWltObTC4evuXkRqu-YjX9hvnFxqRkMYRtsN5AfFuxFwYpw63Ht6KCdLji_TF-q955NQC_RUV2IyHLUVgvlfAbAtbSXU2k1CX3k7vJ91NMln0nblITD0jcz6ch7zSziRcHSCK20mJ8uLq0NHvFbDPafjH-ObQsQS_WCIMv2Zc7Ve8vgzooykM9caWO0evZ5sazKTYQLpqc8n8Fu4-Mbqib9LLyY8N8AcfHa_OIony2PC2sOAMYO702OSSUKpQtHvSwgruZZ3PHoNixyySnfI8Jl-WIMyDdeVfHICHP1Zc8OtyNWNR6kXGMys7U8v70_jw8onU7o-ZmJelAT87ICtunTDKTmE8QO4nrEAH19RM2OLkUnGKDFB8GDc5npAlDQDjRc7WccfyHTUzVqpatQpTkqqfYrpaeUPyfzzgdRylj6d_o9tIsKu6CFHTkCWOtPf47TRhiwA0Mckik_EbWJwLjDjT4neKN1uh0Oi60SZ3bTSsH5amrTmMYvz8ZZkOjnpF1GcN6seTyka6zHR4e4YhTCeKYAFciHZ6Q79ccLJMr8CQ4-7KtVCLDOzoc7EK37EPJNmIHZxXZ0IViiae23CuQ86mDHZT59NfV7KYZ53fnbftqC7xoWNaYF4xcNUQAhuZMZObhuKkn5rzVAYScN3TBkaWBM9I2-xO5IWVJKNmTO_8pPliwt0N0C5XZEPHts0ql8eI5Uu_TwDpIui6qFW5H5mKKlw85k3BlJXdnSEgTCUNvOwfO4dmor31jyC7o1nAjdnuXoWiUYLntFAu1_eOMFXSzE774ya5o5H6vec7peaJhfo-gvBGzpV9Yl9GLU6gX-lP9Jdpqv7iItrbK_QRE6mtwGmqN4gfA0AsqsA9-Hu1t6fkXdvTwEKG0J460bz_kWT48NbQcoJV3WFHiravbQWLRhoWZu_Rvuw-oxPfeSIS34sz5K99-TfY8rphVv_7NB%26p%3D11%26atk%3D1eo6i64koo2bg800%26prevUrl%3Dhttps%253A%252F%252Fwww.indeed.com%252Fm%252Fjobs%253Fq%253Ddata%252Bscientist%2526vjk%253D7ad6bbbb537d86b4%26prforceGroups%3D%26from%3Dserp&mclk=jk%3D04c71d182c7914ce%26rd%3DVwIPTVJ1cTn5AN7Q-tSqGUBEaDmlurnqW3hXm-mBoBA%26what%3Ddata+scientist%26mobtk%3D1eo6i64kko2bg800%26atk%3D1eo6i64koo2bg800%26spon%3D1%26where%3D%26jt%3D%26dupclk%3D0%26explvl%3D\n",
      "<class 'str'>\n",
      "https://www.indeed.com/m/app/vjredirect?dest=https%3A%2F%2Fwww.indeed.com%2Fpagead%2Fclk%3Fmo%3Dr%26ad%3D-6NYlbfkN0BTOZiIoHZD3kQqAsWFmbRNEV7B3R4z1vODUbkjvly5byZVy9ZKKCWltObTC4evuXkRqu-YjX9hvnFxqRkMYRtsN5AfFuxFwYpw63Ht6KCdLji_TF-q955NQC_RUV2IyHLUVgvlfAbAtbSXU2k1CX3k7vJ91NMln0nblITD0jcz6ch7zSziRcHSCK20mJ8uLq0NHvFbDPafjH-ObQsQS_WCIMv2Zc7Ve8vgzooykM9caWO0evZ5sazKTYQLpqc8n8Fu4-Mbqib9LLyY8N8AcfHa_OIony2PC2sOAMYO702OSSUKpQtHvSwgruZZ3PHoNixyySnfI8Jl-WIMyDdeVfHICHP1Zc8OtyNWNR6kXGMys7U8v70_jw8onU7o-ZmJelAT87ICtunTDKTmE8QO4nrEAH19RM2OLkUnGKDFB8GDc5npAlDQDjRc7WccfyHTUzVqpatQpTkqqfYrpaeUPyfzzgdRylj6d_o9tIsKu6CFHTkCWOtPf47TRhiwA0Mckik_EbWJwLjDjT4neKN1uh0Oi60SZ3bTSsH5amrTmMYvz8ZZkOjnpF1GcN6seTyka6zHR4e4YhTCeKYAFciHZ6Q79ccLJMr8CQ4-7KtVCLDOzoc7EK37EPJNmIHZxXZ0IViiae23CuQ86mDHZT59NfV7KYZ53fnbftqC7xoWNaYF4xcNUQAhuZMZObhuKkn5rzVAYScN3TBkaWBM9I2-xO5IWVJKNmTO_8pPliwt0N0C5XZEPHts0ql8eI5Uu_TwDpIui6qFW5H5mKKlw85k3BlJXdnSEgTCUNvOwfO4dmor31jyC7o1nAjdnuXoWiUYLntFAu1_eOMFXSzE774ya5o5H6vec7peaJhfo-gvBGzpV9Yl9GLU6gX-lP9Jdpqv7iItrbK_QRE6mtwGmqN4gfA0AsqsA9-Hu1t6fkXdvTwEKG0J460bz_kWT48NbQcoJV3WFHiravbQWLRhoWZu_Rvuw-oxPfeSIS34sz5K99-TfY8rphVv_7NB%26p%3D11%26atk%3D1eo6i64koo2bg800%26prevUrl%3Dhttps%253A%252F%252Fwww.indeed.com%252Fm%252Fjobs%253Fq%253Ddata%252Bscientist%2526vjk%253D7ad6bbbb537d86b4%26prforceGroups%3D%26from%3Dserp&mclk=jk%3D04c71d182c7914ce%26rd%3DVwIPTVJ1cTn5AN7Q-tSqGUBEaDmlurnqW3hXm-mBoBA%26what%3Ddata+scientist%26mobtk%3D1eo6i64kko2bg800%26atk%3D1eo6i64koo2bg800%26spon%3D1%26where%3D%26jt%3D%26dupclk%3D0%26explvl%3D\n",
      "/m/app/vjredirect?dest=%2Fm%2Fviewjob%3Fjk%3Dd4eeddc53801a0ce%26from%3Dserp&mclk=jk%3Dd4eeddc53801a0ce%26rd%3DVwIPTVJ1cTn5AN7Q-tSqGYyMgFEUFTdVKaf9v6aLEIc%26what%3Ddata+scientist%26mobtk%3D1eo6i64kko2bg800%26atk%3D1eo6i64koo2bg800%26where%3D%26jt%3D%26dupclk%3D0%26explvl%3D\n",
      "<class 'str'>\n",
      "https://www.indeed.com/m/app/vjredirect?dest=%2Fm%2Fviewjob%3Fjk%3Dd4eeddc53801a0ce%26from%3Dserp&mclk=jk%3Dd4eeddc53801a0ce%26rd%3DVwIPTVJ1cTn5AN7Q-tSqGYyMgFEUFTdVKaf9v6aLEIc%26what%3Ddata+scientist%26mobtk%3D1eo6i64kko2bg800%26atk%3D1eo6i64koo2bg800%26where%3D%26jt%3D%26dupclk%3D0%26explvl%3D\n",
      "/m/app/vjredirect?dest=%2Fm%2Fviewjob%3Fjk%3D4d163c2b0818b545%26from%3Dserp&mclk=jk%3D4d163c2b0818b545%26rd%3DVwIPTVJ1cTn5AN7Q-tSqGafZFyE0n8K7q7A93vj5ojs%26what%3Ddata+scientist%26mobtk%3D1eo6i64kko2bg800%26atk%3D1eo6i64koo2bg800%26where%3D%26jt%3D%26dupclk%3D0%26explvl%3D\n",
      "<class 'str'>\n",
      "https://www.indeed.com/m/app/vjredirect?dest=%2Fm%2Fviewjob%3Fjk%3D4d163c2b0818b545%26from%3Dserp&mclk=jk%3D4d163c2b0818b545%26rd%3DVwIPTVJ1cTn5AN7Q-tSqGafZFyE0n8K7q7A93vj5ojs%26what%3Ddata+scientist%26mobtk%3D1eo6i64kko2bg800%26atk%3D1eo6i64koo2bg800%26where%3D%26jt%3D%26dupclk%3D0%26explvl%3D\n",
      "/m/app/vjredirect?dest=https%3A%2F%2Fwww.indeed.com%2Fpagead%2Fclk%3Fmo%3Dr%26ad%3D-6NYlbfkN0C2YNyQh3GFAwQ-dyuiZmvfa2S_250bNGRBUZFpswMPsXcMcw7j4OwuCwot0f7_3CQB1OHVE8PnTTkMe4Hh_irI5s_chZE6mH0pP9CT37SIUHNFNWAg8L54RcZy2i5PwVSJPih-oW9Kfw1xNWMgSluf_C1oc7k6CnawtqoK_qiRHLoSRkzzTQPHW6SLFJuAd_2wZGZiW23ua630NP_C7EcjT_wJBuezcnho7FEBHT_cJTe8FC5stRRuYfWCyX3b6jM4VhI_m6YdtPvIhPG-p19Ho-aWYF7c4bMk4Sn_ThzgE9C2ndUkQdgikpWsCavURCiqiL8-a1d7SvJFZ7B4M9weWyY69wMwAbCe2Ejc9yHj569FbvyAmIeXxH7Gv5QA0_4pLA1we6pF4z8_8--8M-7XmN3a6ggHQq5dtFR8CWVgqz8dI0mlOkynjBnhJHjbUFVowEK-u2h1IEEuqdqekS1mwPf5V4GGqhOScneUbA3MeyaEdnn3jWoCuqjub0dUrXA1lPAz5e21MA%3D%3D%26p%3D14%26atk%3D1eo6i64koo2bg800%26prforceGroups%3D%26from%3Dserp&mclk=jk%3D8862d475e601feeb%26rd%3DVwIPTVJ1cTn5AN7Q-tSqGdDqSl9yMDnMnKv0nxw17HU%26what%3Ddata+scientist%26mobtk%3D1eo6i64kko2bg800%26atk%3D1eo6i64koo2bg800%26spon%3D1%26where%3D%26jt%3D%26dupclk%3D0%26explvl%3D\n",
      "<class 'str'>\n",
      "https://www.indeed.com/m/app/vjredirect?dest=https%3A%2F%2Fwww.indeed.com%2Fpagead%2Fclk%3Fmo%3Dr%26ad%3D-6NYlbfkN0C2YNyQh3GFAwQ-dyuiZmvfa2S_250bNGRBUZFpswMPsXcMcw7j4OwuCwot0f7_3CQB1OHVE8PnTTkMe4Hh_irI5s_chZE6mH0pP9CT37SIUHNFNWAg8L54RcZy2i5PwVSJPih-oW9Kfw1xNWMgSluf_C1oc7k6CnawtqoK_qiRHLoSRkzzTQPHW6SLFJuAd_2wZGZiW23ua630NP_C7EcjT_wJBuezcnho7FEBHT_cJTe8FC5stRRuYfWCyX3b6jM4VhI_m6YdtPvIhPG-p19Ho-aWYF7c4bMk4Sn_ThzgE9C2ndUkQdgikpWsCavURCiqiL8-a1d7SvJFZ7B4M9weWyY69wMwAbCe2Ejc9yHj569FbvyAmIeXxH7Gv5QA0_4pLA1we6pF4z8_8--8M-7XmN3a6ggHQq5dtFR8CWVgqz8dI0mlOkynjBnhJHjbUFVowEK-u2h1IEEuqdqekS1mwPf5V4GGqhOScneUbA3MeyaEdnn3jWoCuqjub0dUrXA1lPAz5e21MA%3D%3D%26p%3D14%26atk%3D1eo6i64koo2bg800%26prforceGroups%3D%26from%3Dserp&mclk=jk%3D8862d475e601feeb%26rd%3DVwIPTVJ1cTn5AN7Q-tSqGdDqSl9yMDnMnKv0nxw17HU%26what%3Ddata+scientist%26mobtk%3D1eo6i64kko2bg800%26atk%3D1eo6i64koo2bg800%26spon%3D1%26where%3D%26jt%3D%26dupclk%3D0%26explvl%3D\n",
      "/m/app/vjredirect?dest=%2Fm%2Fviewjob%3Fjk%3D3a4c53047d92b6d2%26from%3Dserp&mclk=jk%3D3a4c53047d92b6d2%26rd%3DVwIPTVJ1cTn5AN7Q-tSqGXhB5w1MtXyYWonUOOAa_pA%26what%3Ddata+scientist%26mobtk%3D1eo6i64kko2bg800%26atk%3D1eo6i64koo2bg800%26where%3D%26jt%3D%26dupclk%3D0%26explvl%3D\n",
      "<class 'str'>\n",
      "https://www.indeed.com/m/app/vjredirect?dest=%2Fm%2Fviewjob%3Fjk%3D3a4c53047d92b6d2%26from%3Dserp&mclk=jk%3D3a4c53047d92b6d2%26rd%3DVwIPTVJ1cTn5AN7Q-tSqGXhB5w1MtXyYWonUOOAa_pA%26what%3Ddata+scientist%26mobtk%3D1eo6i64kko2bg800%26atk%3D1eo6i64koo2bg800%26where%3D%26jt%3D%26dupclk%3D0%26explvl%3D\n",
      "/m/app/vjredirect?dest=%2Fm%2Fviewjob%3Fjk%3D2dc1735eaf8c603e%26from%3Dserp&mclk=jk%3D2dc1735eaf8c603e%26rd%3DVwIPTVJ1cTn5AN7Q-tSqGao2kt7t-QLXu1LasqU58IU%26what%3Ddata+scientist%26mobtk%3D1eo6i64kko2bg800%26atk%3D1eo6i64koo2bg800%26where%3D%26jt%3D%26dupclk%3D0%26explvl%3D\n",
      "<class 'str'>\n",
      "https://www.indeed.com/m/app/vjredirect?dest=%2Fm%2Fviewjob%3Fjk%3D2dc1735eaf8c603e%26from%3Dserp&mclk=jk%3D2dc1735eaf8c603e%26rd%3DVwIPTVJ1cTn5AN7Q-tSqGao2kt7t-QLXu1LasqU58IU%26what%3Ddata+scientist%26mobtk%3D1eo6i64kko2bg800%26atk%3D1eo6i64koo2bg800%26where%3D%26jt%3D%26dupclk%3D0%26explvl%3D\n",
      "/m/app/vjredirect?dest=%2Fm%2Fviewjob%3Fjk%3D349a3652ec146687%26from%3Dserp&mclk=jk%3D349a3652ec146687%26rd%3DVwIPTVJ1cTn5AN7Q-tSqGWCngW9meEVFWlGDzJLEGHY%26what%3Ddata+scientist%26mobtk%3D1eo6i64kko2bg800%26atk%3D1eo6i64koo2bg800%26where%3D%26jt%3D%26dupclk%3D0%26explvl%3D\n",
      "<class 'str'>\n",
      "https://www.indeed.com/m/app/vjredirect?dest=%2Fm%2Fviewjob%3Fjk%3D349a3652ec146687%26from%3Dserp&mclk=jk%3D349a3652ec146687%26rd%3DVwIPTVJ1cTn5AN7Q-tSqGWCngW9meEVFWlGDzJLEGHY%26what%3Ddata+scientist%26mobtk%3D1eo6i64kko2bg800%26atk%3D1eo6i64koo2bg800%26where%3D%26jt%3D%26dupclk%3D0%26explvl%3D\n",
      "/m/app/vjredirect?dest=%2Fm%2Fviewjob%3Fjk%3Dff8da9fd031532f1%26from%3Dserp&mclk=jk%3Dff8da9fd031532f1%26rd%3DVwIPTVJ1cTn5AN7Q-tSqGclVbDw0cAc-XmYoKsBXwqw%26what%3Ddata+scientist%26mobtk%3D1eo6i64kko2bg800%26atk%3D1eo6i64koo2bg800%26where%3D%26jt%3D%26dupclk%3D0%26explvl%3D\n",
      "<class 'str'>\n",
      "https://www.indeed.com/m/app/vjredirect?dest=%2Fm%2Fviewjob%3Fjk%3Dff8da9fd031532f1%26from%3Dserp&mclk=jk%3Dff8da9fd031532f1%26rd%3DVwIPTVJ1cTn5AN7Q-tSqGclVbDw0cAc-XmYoKsBXwqw%26what%3Ddata+scientist%26mobtk%3D1eo6i64kko2bg800%26atk%3D1eo6i64koo2bg800%26where%3D%26jt%3D%26dupclk%3D0%26explvl%3D\n",
      "/m/app/vjredirect?dest=%2Fm%2Fviewjob%3Fjk%3D4df5e9a053f32646%26from%3Dserp&mclk=jk%3D4df5e9a053f32646%26rd%3DVwIPTVJ1cTn5AN7Q-tSqGTp9HG4ka8ilNk1RbTwu33w%26what%3Ddata+scientist%26mobtk%3D1eo6i64kko2bg800%26atk%3D1eo6i64koo2bg800%26where%3D%26jt%3D%26dupclk%3D0%26explvl%3D\n",
      "<class 'str'>\n",
      "https://www.indeed.com/m/app/vjredirect?dest=%2Fm%2Fviewjob%3Fjk%3D4df5e9a053f32646%26from%3Dserp&mclk=jk%3D4df5e9a053f32646%26rd%3DVwIPTVJ1cTn5AN7Q-tSqGTp9HG4ka8ilNk1RbTwu33w%26what%3Ddata+scientist%26mobtk%3D1eo6i64kko2bg800%26atk%3D1eo6i64koo2bg800%26where%3D%26jt%3D%26dupclk%3D0%26explvl%3D\n",
      "/m/app/vjredirect?dest=%2Fm%2Fviewjob%3Fjk%3Da88367950cf62977%26from%3Dserp&mclk=jk%3Da88367950cf62977%26rd%3DVwIPTVJ1cTn5AN7Q-tSqGcrValUy_NYkNxTSgGVuF0k%26what%3Ddata+scientist%26mobtk%3D1eo6i64kko2bg800%26atk%3D1eo6i64koo2bg800%26where%3D%26jt%3D%26dupclk%3D0%26explvl%3D\n",
      "<class 'str'>\n",
      "https://www.indeed.com/m/app/vjredirect?dest=%2Fm%2Fviewjob%3Fjk%3Da88367950cf62977%26from%3Dserp&mclk=jk%3Da88367950cf62977%26rd%3DVwIPTVJ1cTn5AN7Q-tSqGcrValUy_NYkNxTSgGVuF0k%26what%3Ddata+scientist%26mobtk%3D1eo6i64kko2bg800%26atk%3D1eo6i64koo2bg800%26where%3D%26jt%3D%26dupclk%3D0%26explvl%3D\n",
      "/m/app/vjredirect?dest=%2Fm%2Fviewjob%3Fjk%3Dc4dd889757b4d28f%26from%3Dserp&mclk=jk%3Dc4dd889757b4d28f%26rd%3DVwIPTVJ1cTn5AN7Q-tSqGd5drTUSOtAelAI0SHRoglE%26what%3Ddata+scientist%26mobtk%3D1eo6i64kko2bg800%26atk%3D1eo6i64koo2bg800%26where%3D%26jt%3D%26dupclk%3D0%26explvl%3D\n",
      "<class 'str'>\n",
      "https://www.indeed.com/m/app/vjredirect?dest=%2Fm%2Fviewjob%3Fjk%3Dc4dd889757b4d28f%26from%3Dserp&mclk=jk%3Dc4dd889757b4d28f%26rd%3DVwIPTVJ1cTn5AN7Q-tSqGd5drTUSOtAelAI0SHRoglE%26what%3Ddata+scientist%26mobtk%3D1eo6i64kko2bg800%26atk%3D1eo6i64koo2bg800%26where%3D%26jt%3D%26dupclk%3D0%26explvl%3D\n",
      "/m/app/vjredirect?dest=%2Fm%2Fviewjob%3Fjk%3D0558bb7a3458addd%26from%3Dserp&mclk=jk%3D0558bb7a3458addd%26rd%3DVwIPTVJ1cTn5AN7Q-tSqGd-MikBl_GCdKT2zT-kxBb4%26what%3Ddata+scientist%26mobtk%3D1eo6i64kko2bg800%26atk%3D1eo6i64koo2bg800%26where%3D%26jt%3D%26dupclk%3D0%26explvl%3D\n",
      "<class 'str'>\n",
      "https://www.indeed.com/m/app/vjredirect?dest=%2Fm%2Fviewjob%3Fjk%3D0558bb7a3458addd%26from%3Dserp&mclk=jk%3D0558bb7a3458addd%26rd%3DVwIPTVJ1cTn5AN7Q-tSqGd-MikBl_GCdKT2zT-kxBb4%26what%3Ddata+scientist%26mobtk%3D1eo6i64kko2bg800%26atk%3D1eo6i64koo2bg800%26where%3D%26jt%3D%26dupclk%3D0%26explvl%3D\n",
      "/m/app/vjredirect?dest=https%3A%2F%2Fwww.indeed.com%2Fpagead%2Fclk%3Fmo%3Dr%26ad%3D-6NYlbfkN0DzYg_Hw4f1Hctt-0uYokkb0zDG9A9TR-s4i2f330sXEYdA2VnFfcqQ4z_x7kFmo6Duu6cwNzIK6kd860GOFTWCKe1EO0BiJ6o4GUEx4CeWjhGK_uaDSYlArAIQIlzr6WrL0ni0jAmLkJHDEnQrmqQ-o3-SbBlHwX9FvmU785zHa8INblZxeMfGXyNgpJLqzhuphngjz-CmAJW_KMmch3dBPO8xvKN_KJFVUdmcTqiN2lEJG_TxK4kRPcRkHo8-_KPf8xul9nuC7s0pvjGbdkSIsrhN0Jsg65hnsSSHdMtE9XG0vIpxiszkk-ThxP16ApDu5lz--N8pGTTjb6QrMb73KjrO0I1PaX-VC7sofOAickXodFZ8RBVeRkE1T91AbvHQKFQumQre0cEl77qrs7rPRxPzmzchh-3XGN5BLIdFmRgohvEl_WdQZ-KInCuRSSFKV7_DsUOhKCJ7yoI-K7JT55IFt_RiqUfujdo8c6rQdXMrMxTmjXFvAJHJGoy9a9ZpuGHwqAWD19GaKqaJZ09Wfai6i-BuG4Kb0Ct-VDSzQEUZT3qImrZyL8vdvptM6GiD8nl1DW-R3fjidm4mNZQeslB-4-R685Xe1NisXSA23S2HNCoStzMrD9RY_mer2cczdVqXnhq6qHsOiP4N-Uuk6z4lvzPlQhRt9ChRCP-PrKIylPqhIhzLidMj1OdY5bNqOGzD3T3z--VBQHzdnstPNBjkQrHNgIuiNkjRvJ4xgRsUrl0Im4t4ga5LlvB5L7EHM4JfwVUEARDcIUSWvbKJENC9QBNy6U5in4ioTLtoEuJBk5KVzI0weUDEJM2X3LYKEoF2aZAx-JXV3FjZqhsZERWqng1tj6MzchdS_zA-1qfxXDolWlwMK8Az_PWyz6hb1tt_VnpeebBojqQ_GB_zw3GJN1qg9Ey_2vAKWVGkUQ%3D%3D%26p%3D23%26atk%3D1eo6i64koo2bg800%26prforceGroups%3D%26from%3Dserp&mclk=jk%3Dfd576486dc6e8a3c%26rd%3DVwIPTVJ1cTn5AN7Q-tSqGa3kbJU7DZjJepjizs4G7sg%26what%3Ddata+scientist%26mobtk%3D1eo6i64kko2bg800%26atk%3D1eo6i64koo2bg800%26spon%3D1%26where%3D%26jt%3D%26dupclk%3D0%26explvl%3D\n",
      "<class 'str'>\n",
      "https://www.indeed.com/m/app/vjredirect?dest=https%3A%2F%2Fwww.indeed.com%2Fpagead%2Fclk%3Fmo%3Dr%26ad%3D-6NYlbfkN0DzYg_Hw4f1Hctt-0uYokkb0zDG9A9TR-s4i2f330sXEYdA2VnFfcqQ4z_x7kFmo6Duu6cwNzIK6kd860GOFTWCKe1EO0BiJ6o4GUEx4CeWjhGK_uaDSYlArAIQIlzr6WrL0ni0jAmLkJHDEnQrmqQ-o3-SbBlHwX9FvmU785zHa8INblZxeMfGXyNgpJLqzhuphngjz-CmAJW_KMmch3dBPO8xvKN_KJFVUdmcTqiN2lEJG_TxK4kRPcRkHo8-_KPf8xul9nuC7s0pvjGbdkSIsrhN0Jsg65hnsSSHdMtE9XG0vIpxiszkk-ThxP16ApDu5lz--N8pGTTjb6QrMb73KjrO0I1PaX-VC7sofOAickXodFZ8RBVeRkE1T91AbvHQKFQumQre0cEl77qrs7rPRxPzmzchh-3XGN5BLIdFmRgohvEl_WdQZ-KInCuRSSFKV7_DsUOhKCJ7yoI-K7JT55IFt_RiqUfujdo8c6rQdXMrMxTmjXFvAJHJGoy9a9ZpuGHwqAWD19GaKqaJZ09Wfai6i-BuG4Kb0Ct-VDSzQEUZT3qImrZyL8vdvptM6GiD8nl1DW-R3fjidm4mNZQeslB-4-R685Xe1NisXSA23S2HNCoStzMrD9RY_mer2cczdVqXnhq6qHsOiP4N-Uuk6z4lvzPlQhRt9ChRCP-PrKIylPqhIhzLidMj1OdY5bNqOGzD3T3z--VBQHzdnstPNBjkQrHNgIuiNkjRvJ4xgRsUrl0Im4t4ga5LlvB5L7EHM4JfwVUEARDcIUSWvbKJENC9QBNy6U5in4ioTLtoEuJBk5KVzI0weUDEJM2X3LYKEoF2aZAx-JXV3FjZqhsZERWqng1tj6MzchdS_zA-1qfxXDolWlwMK8Az_PWyz6hb1tt_VnpeebBojqQ_GB_zw3GJN1qg9Ey_2vAKWVGkUQ%3D%3D%26p%3D23%26atk%3D1eo6i64koo2bg800%26prforceGroups%3D%26from%3Dserp&mclk=jk%3Dfd576486dc6e8a3c%26rd%3DVwIPTVJ1cTn5AN7Q-tSqGa3kbJU7DZjJepjizs4G7sg%26what%3Ddata+scientist%26mobtk%3D1eo6i64kko2bg800%26atk%3D1eo6i64koo2bg800%26spon%3D1%26where%3D%26jt%3D%26dupclk%3D0%26explvl%3D\n",
      "/m/app/vjredirect?dest=%2Fm%2Fviewjob%3Fjk%3D42a31491819df595%26prevUrl%3Dhttps%253A%252F%252Fwww.indeed.com%252Fm%252Fjobs%253Fq%253Ddata%252Bscientist%2526vjk%253D7ad6bbbb537d86b4%26from%3Dserp&mclk=jk%3D42a31491819df595%26rd%3DVwIPTVJ1cTn5AN7Q-tSqGZ4jTsjbp8V1R1eLnxJoK0c%26what%3Ddata+scientist%26mobtk%3D1eo6i64kko2bg800%26atk%3D1eo6i64koo2bg800%26where%3D%26jt%3D%26dupclk%3D0%26explvl%3D\n",
      "<class 'str'>\n",
      "https://www.indeed.com/m/app/vjredirect?dest=%2Fm%2Fviewjob%3Fjk%3D42a31491819df595%26prevUrl%3Dhttps%253A%252F%252Fwww.indeed.com%252Fm%252Fjobs%253Fq%253Ddata%252Bscientist%2526vjk%253D7ad6bbbb537d86b4%26from%3Dserp&mclk=jk%3D42a31491819df595%26rd%3DVwIPTVJ1cTn5AN7Q-tSqGZ4jTsjbp8V1R1eLnxJoK0c%26what%3Ddata+scientist%26mobtk%3D1eo6i64kko2bg800%26atk%3D1eo6i64koo2bg800%26where%3D%26jt%3D%26dupclk%3D0%26explvl%3D\n",
      "jobs?q=data+scientist&l=&forceLocation=0&start=20\n",
      "<class 'str'>\n",
      "https://www.indeed.comjobs?q=data+scientist&l=&forceLocation=0&start=20\n"
     ]
    }
   ],
   "source": [
    "all_matches = soup.find_all('a', attrs={'rel':'nofollow'})\n",
    "for i in all_matches:\n",
    "    print (i['href'])\n",
    "    print (type(i['href']))\n",
    "    print (\"https://www.indeed.com\"+i['href'])"
   ]
  },
  {
   "cell_type": "code",
   "execution_count": 81,
   "metadata": {},
   "outputs": [
    {
     "data": {
      "text/plain": [
       "<a class=\"pill-toggle-link\" href=\"/m/jobs?q=data+scientist&amp;l=&amp;forceLocation=0&amp;remotejob=1\" rel=\"nofollow\">Remote</a>"
      ]
     },
     "execution_count": 81,
     "metadata": {},
     "output_type": "execute_result"
    }
   ],
   "source": [
    "all_matches.pop(0)"
   ]
  },
  {
   "cell_type": "markdown",
   "metadata": {},
   "source": [
    "### Extract job title, company name, job location, and detailed jb"
   ]
  },
  {
   "cell_type": "code",
   "execution_count": 82,
   "metadata": {},
   "outputs": [],
   "source": [
    "title = []\n",
    "company = []\n",
    "location = []\n",
    "jd = []\n",
    "for each in all_matches:\n",
    "    try:\n",
    "        jd_url= 'http://www.indeed.com'+each['href']\n",
    "        jd_page = requests.get(jd_url)\n",
    "        jd_soup = BeautifulSoup(jd_page.text, 'lxml')\n",
    "        jd_desc = jd_soup.findAll('div',attrs={'id': 'desc'}) ## find the structure like: <div id=\"desc\"></>\n",
    "\n",
    "        title.append(jd_soup.body.p.b.font.text)\n",
    "        company.append(jd_desc[0].span.text)\n",
    "        location.append(jd_soup.body.p.span.text)\n",
    "        jd.append(jd_desc[0].text)\n",
    "    except:\n",
    "        pass"
   ]
  },
  {
   "cell_type": "code",
   "execution_count": 100,
   "metadata": {},
   "outputs": [
    {
     "data": {
      "text/plain": [
       "'BRAINTRUST'"
      ]
     },
     "execution_count": 100,
     "metadata": {},
     "output_type": "execute_result"
    }
   ],
   "source": [
    "jd_desc[0].span.text"
   ]
  },
  {
   "cell_type": "code",
   "execution_count": 228,
   "metadata": {},
   "outputs": [],
   "source": [
    "# jd_desc[0].text"
   ]
  },
  {
   "cell_type": "markdown",
   "metadata": {},
   "source": [
    "### Organize information to a nice dataframe"
   ]
  },
  {
   "cell_type": "code",
   "execution_count": 95,
   "metadata": {},
   "outputs": [],
   "source": [
    "job = {'title': title,\n",
    "         'company': company,\n",
    "         'location': location,\n",
    "         'Job Description': jd}\n",
    "df = pd.DataFrame.from_dict(job)"
   ]
  },
  {
   "cell_type": "code",
   "execution_count": 235,
   "metadata": {},
   "outputs": [
    {
     "data": {
      "text/html": [
       "<div>\n",
       "<style scoped>\n",
       "    .dataframe tbody tr th:only-of-type {\n",
       "        vertical-align: middle;\n",
       "    }\n",
       "\n",
       "    .dataframe tbody tr th {\n",
       "        vertical-align: top;\n",
       "    }\n",
       "\n",
       "    .dataframe thead th {\n",
       "        text-align: right;\n",
       "    }\n",
       "</style>\n",
       "<table border=\"1\" class=\"dataframe\">\n",
       "  <thead>\n",
       "    <tr style=\"text-align: right;\">\n",
       "      <th></th>\n",
       "      <th>title</th>\n",
       "      <th>company</th>\n",
       "      <th>location</th>\n",
       "      <th>Job Description</th>\n",
       "      <th>loc</th>\n",
       "      <th>income</th>\n",
       "      <th>Income</th>\n",
       "      <th>location_city</th>\n",
       "      <th>location_st</th>\n",
       "      <th>clean</th>\n",
       "    </tr>\n",
       "  </thead>\n",
       "  <tbody>\n",
       "    <tr>\n",
       "      <th>0</th>\n",
       "      <td>Data Scientist</td>\n",
       "      <td>National Security Agency</td>\n",
       "      <td>Fort Meade, MD</td>\n",
       "      <td>Job Summary\\nNSA is in search of Computer Scie...</td>\n",
       "      <td>-1</td>\n",
       "      <td>$72,351 -</td>\n",
       "      <td>[$72,351, $90,157, $83,692, $112,240, $102,663...</td>\n",
       "      <td>[Fort Meade]</td>\n",
       "      <td>[MD]</td>\n",
       "      <td>[Job, Summary, NSA, is, in, search, of, Comput...</td>\n",
       "    </tr>\n",
       "    <tr>\n",
       "      <th>1</th>\n",
       "      <td>Data Scientist, Ads Measurement</td>\n",
       "      <td>Pinterest</td>\n",
       "      <td>Seattle, WA</td>\n",
       "      <td>Pinterest’s ad business is critical to its suc...</td>\n",
       "      <td>-1</td>\n",
       "      <td>NaN</td>\n",
       "      <td>[]</td>\n",
       "      <td>[Seattle]</td>\n",
       "      <td>[WA]</td>\n",
       "      <td>[Pinterest, ’, s, ad, business, is, critical, ...</td>\n",
       "    </tr>\n",
       "    <tr>\n",
       "      <th>2</th>\n",
       "      <td>Data Scientist I</td>\n",
       "      <td>Expedia</td>\n",
       "      <td>Seattle, WA 98119</td>\n",
       "      <td>Data Scientist I\\nDo you want to transform the...</td>\n",
       "      <td>-1</td>\n",
       "      <td>NaN</td>\n",
       "      <td>[]</td>\n",
       "      <td>[Seattle]</td>\n",
       "      <td>[WA 98119]</td>\n",
       "      <td>[Data, Scientist, I, Do, you, want, to, transf...</td>\n",
       "    </tr>\n",
       "    <tr>\n",
       "      <th>3</th>\n",
       "      <td>Sports Betting Data Scientist</td>\n",
       "      <td>25 days ago</td>\n",
       "      <td>Remote</td>\n",
       "      <td>We are looking for a driven sports data analys...</td>\n",
       "      <td>-1</td>\n",
       "      <td>$2,000.00</td>\n",
       "      <td>[$2,000, $4,000]</td>\n",
       "      <td>[]</td>\n",
       "      <td>[]</td>\n",
       "      <td>[We, are, looking, for, a, driven, sports, dat...</td>\n",
       "    </tr>\n",
       "    <tr>\n",
       "      <th>4</th>\n",
       "      <td>Data Scientist, Analytics-Remote Presence</td>\n",
       "      <td>Facebook</td>\n",
       "      <td>Bellevue, WA</td>\n",
       "      <td>Facebook's mission is to give people the power...</td>\n",
       "      <td>-1</td>\n",
       "      <td>NaN</td>\n",
       "      <td>[]</td>\n",
       "      <td>[Bellevue]</td>\n",
       "      <td>[WA]</td>\n",
       "      <td>[Facebook, 's, mission, is, to, give, people, ...</td>\n",
       "    </tr>\n",
       "  </tbody>\n",
       "</table>\n",
       "</div>"
      ],
      "text/plain": [
       "                                       title                   company  \\\n",
       "0                             Data Scientist  National Security Agency   \n",
       "1            Data Scientist, Ads Measurement                 Pinterest   \n",
       "2                           Data Scientist I                   Expedia   \n",
       "3              Sports Betting Data Scientist               25 days ago   \n",
       "4  Data Scientist, Analytics-Remote Presence                  Facebook   \n",
       "\n",
       "            location                                    Job Description  loc  \\\n",
       "0     Fort Meade, MD  Job Summary\\nNSA is in search of Computer Scie...   -1   \n",
       "1        Seattle, WA  Pinterest’s ad business is critical to its suc...   -1   \n",
       "2  Seattle, WA 98119  Data Scientist I\\nDo you want to transform the...   -1   \n",
       "3             Remote  We are looking for a driven sports data analys...   -1   \n",
       "4       Bellevue, WA  Facebook's mission is to give people the power...   -1   \n",
       "\n",
       "       income                                             Income  \\\n",
       "0  $72,351 -   [$72,351, $90,157, $83,692, $112,240, $102,663...   \n",
       "1         NaN                                                 []   \n",
       "2         NaN                                                 []   \n",
       "3  $2,000.00                                    [$2,000, $4,000]   \n",
       "4         NaN                                                 []   \n",
       "\n",
       "  location_city location_st                                              clean  \n",
       "0  [Fort Meade]        [MD]  [Job, Summary, NSA, is, in, search, of, Comput...  \n",
       "1     [Seattle]        [WA]  [Pinterest, ’, s, ad, business, is, critical, ...  \n",
       "2     [Seattle]  [WA 98119]  [Data, Scientist, I, Do, you, want, to, transf...  \n",
       "3            []          []  [We, are, looking, for, a, driven, sports, dat...  \n",
       "4    [Bellevue]        [WA]  [Facebook, 's, mission, is, to, give, people, ...  "
      ]
     },
     "execution_count": 235,
     "metadata": {},
     "output_type": "execute_result"
    }
   ],
   "source": [
    "df.head(5)"
   ]
  },
  {
   "cell_type": "markdown",
   "metadata": {},
   "source": [
    "#### What’s the distribution of data scientists’ salary? "
   ]
  },
  {
   "cell_type": "code",
   "execution_count": null,
   "metadata": {},
   "outputs": [],
   "source": [
    "df['Income'] = df['Job Description'].str.findall(\"[$][0-9,-]*\")\n",
    "col_income = df['Income'].to_list()"
   ]
  },
  {
   "cell_type": "markdown",
   "metadata": {},
   "source": [
    "#### I extract every \"$\" sign with numerical number after it, and remove numbers that are below 40000 (since it could be internship or part-time wage)"
   ]
  },
  {
   "cell_type": "code",
   "execution_count": 229,
   "metadata": {},
   "outputs": [],
   "source": [
    "flat_list = [item for sublist in col_income for item in sublist]"
   ]
  },
  {
   "cell_type": "code",
   "execution_count": 230,
   "metadata": {},
   "outputs": [],
   "source": [
    "clean_flat_ls = [int(item.replace(\"$\", \"\").replace(\",\", \"\")) for item in flat_list]"
   ]
  },
  {
   "cell_type": "code",
   "execution_count": 231,
   "metadata": {},
   "outputs": [],
   "source": [
    "clean_flat_ls = [item for item in clean_flat_ls if item > 40000]"
   ]
  },
  {
   "cell_type": "code",
   "execution_count": 233,
   "metadata": {},
   "outputs": [
    {
     "data": {
      "text/plain": [
       "(array([2., 2., 0., 2., 1., 0., 0., 1., 1., 1.]),\n",
       " array([ 72351. ,  82195.9,  92040.8, 101885.7, 111730.6, 121575.5,\n",
       "        131420.4, 141265.3, 151110.2, 160955.1, 170800. ]),\n",
       " <BarContainer object of 10 artists>)"
      ]
     },
     "execution_count": 233,
     "metadata": {},
     "output_type": "execute_result"
    },
    {
     "data": {
      "image/png": "[encoded data removed]",
      "text/plain": [
       "<Figure size 432x288 with 1 Axes>"
      ]
     },
     "metadata": {
      "needs_background": "light"
     },
     "output_type": "display_data"
    }
   ],
   "source": [
    "import matplotlib.pyplot as plt\n",
    "plt.hist(clean_flat_ls)"
   ]
  },
  {
   "cell_type": "markdown",
   "metadata": {},
   "source": [
    "#### What is the geographic distribution of the jobs? "
   ]
  },
  {
   "cell_type": "code",
   "execution_count": 170,
   "metadata": {},
   "outputs": [],
   "source": [
    "df['location_city'] = df['location'].str.findall(\"(.*)\\,\")"
   ]
  },
  {
   "cell_type": "code",
   "execution_count": 175,
   "metadata": {},
   "outputs": [],
   "source": [
    "df['location_st'] = df['location'].str.findall(\"\\,\\s(.*)\")"
   ]
  },
  {
   "cell_type": "code",
   "execution_count": 176,
   "metadata": {},
   "outputs": [
    {
     "data": {
      "text/plain": [
       "[Seattle]          7\n",
       "[]                 6\n",
       "[San Francisco]    4\n",
       "[Redmond]          2\n",
       "[Washington]       1\n",
       "[Fort Meade]       1\n",
       "[Boston]           1\n",
       "[Missouri City]    1\n",
       "[Bellevue]         1\n",
       "[Collierville]     1\n",
       "Name: location_city, dtype: int64"
      ]
     },
     "execution_count": 176,
     "metadata": {},
     "output_type": "execute_result"
    }
   ],
   "source": [
    "df['location_city'].value_counts()"
   ]
  },
  {
   "cell_type": "markdown",
   "metadata": {},
   "source": [
    "#### What are the top 10 skills required for data scientist jobs?"
   ]
  },
  {
   "cell_type": "markdown",
   "metadata": {},
   "source": [
    "#### I tokenize the jb to invistage the word frequence."
   ]
  },
  {
   "cell_type": "code",
   "execution_count": 237,
   "metadata": {},
   "outputs": [],
   "source": [
    "import nltk\n",
    "from nltk import word_tokenize\n",
    "jb = df.apply(lambda x: word_tokenize(x['Job Description'].lower()), axis=1)"
   ]
  },
  {
   "cell_type": "code",
   "execution_count": 238,
   "metadata": {},
   "outputs": [],
   "source": [
    "from nltk.corpus import stopwords\n",
    "stopwords = stopwords.words(\"english\")"
   ]
  },
  {
   "cell_type": "code",
   "execution_count": 239,
   "metadata": {},
   "outputs": [],
   "source": [
    "all_list = jb.to_list()"
   ]
  },
  {
   "cell_type": "code",
   "execution_count": 240,
   "metadata": {},
   "outputs": [],
   "source": [
    "flat_ls = [item for sublist in all_list for item in sublist if item.isalpha() and item not in stopwords]"
   ]
  },
  {
   "cell_type": "code",
   "execution_count": 243,
   "metadata": {},
   "outputs": [
    {
     "data": {
      "text/plain": [
       "[('data', 236),\n",
       " ('experience', 104),\n",
       " ('science', 78),\n",
       " ('business', 78),\n",
       " ('work', 71),\n",
       " ('learning', 59),\n",
       " ('team', 56),\n",
       " ('skills', 48),\n",
       " ('scientist', 47),\n",
       " ('machine', 46)]"
      ]
     },
     "execution_count": 243,
     "metadata": {},
     "output_type": "execute_result"
    }
   ],
   "source": [
    "from nltk.probability import FreqDist\n",
    "fdist = FreqDist(flat_ls)\n",
    "fdist.most_common(10)"
   ]
  },
  {
   "cell_type": "markdown",
   "metadata": {},
   "source": [
    "#### Relavent words are: experience, data, business, machine, learning, statistical, models, computer sciences, mathematics, product"
   ]
  },
  {
   "cell_type": "code",
   "execution_count": null,
   "metadata": {},
   "outputs": [],
   "source": []
  },
  {
   "cell_type": "code",
   "execution_count": 216,
   "metadata": {},
   "outputs": [],
   "source": []
  },
  {
   "cell_type": "code",
   "execution_count": 217,
   "metadata": {},
   "outputs": [],
   "source": []
  },
  {
   "cell_type": "code",
   "execution_count": null,
   "metadata": {},
   "outputs": [],
   "source": []
  },
  {
   "cell_type": "code",
   "execution_count": 234,
   "metadata": {},
   "outputs": [],
   "source": []
  },
  {
   "cell_type": "code",
   "execution_count": null,
   "metadata": {},
   "outputs": [],
   "source": []
  }
 ],
 "metadata": {
  "kernelspec": {
   "display_name": "mlenv",
   "language": "python",
   "name": "mlenv"
  },
  "language_info": {
   "codemirror_mode": {
    "name": "ipython",
    "version": 3
   },
   "file_extension": ".py",
   "mimetype": "text/x-python",
   "name": "python",
   "nbconvert_exporter": "python",
   "pygments_lexer": "ipython3",
   "version": "3.7.4"
  }
 },
 "nbformat": 4,
 "nbformat_minor": 4
}
